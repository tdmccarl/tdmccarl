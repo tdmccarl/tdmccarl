{
 "cells": [
  {
   "cell_type": "markdown",
   "id": "c185e7df-5320-482a-b2f9-f31a1c5dedea",
   "metadata": {},
   "source": [
    "# Data Science Tools and Ecosystem"
   ]
  },
  {
   "cell_type": "markdown",
   "id": "65120437-6de5-47a9-89dd-6e727bd59465",
   "metadata": {},
   "source": [
    "## Author ##\n",
    "Tracy McCarley"
   ]
  },
  {
   "cell_type": "code",
   "execution_count": null,
   "id": "300ad417-1886-41f9-85e8-d9ee49b656b5",
   "metadata": {},
   "outputs": [],
   "source": []
  },
  {
   "cell_type": "markdown",
   "id": "262d6051-a0eb-416f-8a8e-1184d2fd6cfb",
   "metadata": {},
   "source": [
    "In this notebook, Data Science Tools and Ecosystem are summarized."
   ]
  },
  {
   "cell_type": "markdown",
   "id": "12c19d90-5677-431b-8842-850d928580a4",
   "metadata": {
    "tags": []
   },
   "source": [
    "**Objectives:**\n",
    "-  explore languages of Data Science\n",
    "-  learn about libraries, APIs, datasets, and models\n",
    "- learn about Data Science Tools"
   ]
  },
  {
   "cell_type": "markdown",
   "id": "19251073-b915-4c42-a697-21c8689a4fd6",
   "metadata": {},
   "source": [
    "Some of the popular languages that Data Scientists use are:\n",
    "1. Python\n",
    "2. Julia\n",
    "3. R\n",
    "4. Java\n",
    "5. Scala\n",
    "6. C++"
   ]
  },
  {
   "cell_type": "markdown",
   "id": "651088c0-a630-45f7-85b8-69466bfda84c",
   "metadata": {
    "tags": []
   },
   "source": [
    "Some of the commonly used libraries used by Data Scientists include:\n",
    "1. Pandas\n",
    "2. NumPy\n",
    "3. Matplotlib\n",
    "4. Seaborn\n",
    "5. Scikit-learn\n",
    "6. Keras\n",
    "7. TensorFlow\n",
    "8. Pytorch"
   ]
  },
  {
   "cell_type": "markdown",
   "id": "39982720-56bb-47e0-88db-5fd6545fd9c1",
   "metadata": {},
   "source": [
    "|Data Science Tools|\n",
    "|--------|\n",
    "|Jupyter|\n",
    "|RStudio|\n",
    "|Spyder|\n"
   ]
  },
  {
   "cell_type": "markdown",
   "id": "f87034d0-14d7-45aa-9cab-0271672edcbd",
   "metadata": {},
   "source": [
    "### Below are a few examples of evaluating arithmetic expressions in Python"
   ]
  },
  {
   "cell_type": "markdown",
   "id": "f9a7f573-48f8-4ea1-a0aa-0ac0da336af8",
   "metadata": {},
   "source": [
    "This is a simple arithmetic expression to multiply then add integers"
   ]
  },
  {
   "cell_type": "code",
   "execution_count": 5,
   "id": "e0721cff-e0fe-46d2-88f1-47a8792409bf",
   "metadata": {
    "tags": []
   },
   "outputs": [
    {
     "data": {
      "text/plain": [
       "17"
      ]
     },
     "execution_count": 5,
     "metadata": {},
     "output_type": "execute_result"
    }
   ],
   "source": [
    "(3*4)+5"
   ]
  },
  {
   "cell_type": "markdown",
   "id": "a0b0a779-9416-4fdb-afba-ce7c10b83607",
   "metadata": {
    "tags": []
   },
   "source": [
    "This will convert 200 minutes to hours by dividing by 60"
   ]
  },
  {
   "cell_type": "code",
   "execution_count": 7,
   "id": "1e1fdb31-e90e-4ff2-b550-652de38f15ea",
   "metadata": {
    "tags": []
   },
   "outputs": [
    {
     "data": {
      "text/plain": [
       "3.3333333333333335"
      ]
     },
     "execution_count": 7,
     "metadata": {},
     "output_type": "execute_result"
    }
   ],
   "source": [
    "200/60"
   ]
  },
  {
   "cell_type": "code",
   "execution_count": null,
   "id": "ccadecb4-1d4b-480e-a4cd-fb153b1c4a3b",
   "metadata": {},
   "outputs": [],
   "source": []
  }
 ],
 "metadata": {
  "kernelspec": {
   "display_name": "Python",
   "language": "python",
   "name": "conda-env-python-py"
  },
  "language_info": {
   "codemirror_mode": {
    "name": "ipython",
    "version": 3
   },
   "file_extension": ".py",
   "mimetype": "text/x-python",
   "name": "python",
   "nbconvert_exporter": "python",
   "pygments_lexer": "ipython3",
   "version": "3.7.12"
  }
 },
 "nbformat": 4,
 "nbformat_minor": 5
}
